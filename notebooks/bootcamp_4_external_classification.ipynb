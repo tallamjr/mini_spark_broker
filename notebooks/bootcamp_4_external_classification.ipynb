{
 "cells": [
  {
   "cell_type": "markdown",
   "metadata": {},
   "source": [
    "# Mini Spark Broker: Early classification and external database\n",
    "\n",
    "author: **Julien Peloton** [@JulienPeloton](https://github.com/JulienPeloton)  \n",
    "Last Verifed to Run: 2019-02-06\n",
    "\n",
    "\n",
    "The purpose of this notebook is to test Spark capability to connect to external database such as the CDS Strasbourg, and perform real-time classification for known objects. We use the CDS X-Match service (http://cdsxmatch.u-strasbg.fr/), and the SIMBAD bibliographical database (updated each day). \n",
    "\n",
    "**Useful Links:**\n",
    "\n",
    "* https://spark.apache.org/docs/latest/structured-streaming-programming-guide.html\n",
    "* http://cdsxmatch.u-strasbg.fr/xmatch/doc/index.html"
   ]
  },
  {
   "cell_type": "code",
   "execution_count": 1,
   "metadata": {},
   "outputs": [],
   "source": [
    "from pyspark.sql import SparkSession\n",
    "\n",
    "import io\n",
    "import time\n",
    "import requests\n",
    "from typing import Iterator, Generator\n",
    "\n",
    "import numpy as np\n",
    "import pandas as pd\n",
    "\n",
    "import matplotlib\n",
    "import matplotlib.pyplot as plt\n",
    "\n",
    "from desc.msb import avroUtils\n",
    "from desc.msb.filtering import make_dataframe_from_alerts\n",
    "from desc.msb.filtering import extract_history_ztf"
   ]
  },
  {
   "cell_type": "markdown",
   "metadata": {},
   "source": [
    "## Step 0: Running the LSST alert system\n",
    "\n",
    "In order to play with this notebook, you need to create the stream of alerts. see the README file of the bootcamp to set up your environment and launch the stream."
   ]
  },
  {
   "cell_type": "markdown",
   "metadata": {},
   "source": [
    "## Step 1: Connecting to the stream with Apache Spark\n",
    "\n",
    "Once the stream is produced, let's initialise the Spark context:"
   ]
  },
  {
   "cell_type": "code",
   "execution_count": 2,
   "metadata": {},
   "outputs": [],
   "source": [
    "# Grab the running Spark Session, \n",
    "# otherwise create it.\n",
    "spark = SparkSession \\\n",
    "    .builder \\\n",
    "    .appName(\"filtering\") \\\n",
    "    .getOrCreate()"
   ]
  },
  {
   "cell_type": "markdown",
   "metadata": {},
   "source": [
    "Let's initialise a DataFrame that will read the stream from Kafka. Note that `kafka.bootstrap.servers` and `subscribe` must correspond to the arguments used for the LSST alert system (see above). At this point, we just create a Kafka Source for Streaming Queries - nothing really happens:"
   ]
  },
  {
   "cell_type": "code",
   "execution_count": 3,
   "metadata": {},
   "outputs": [
    {
     "data": {
      "text/plain": [
       "True"
      ]
     },
     "execution_count": 3,
     "metadata": {},
     "output_type": "execute_result"
    }
   ],
   "source": [
    "# Create a DF from the incoming stream from Kafka\n",
    "# Note that <kafka.bootstrap.servers> and <subscribe>\n",
    "# must correspond to arguments of the LSST alert system.\n",
    "df = spark \\\n",
    "  .readStream \\\n",
    "  .format(\"kafka\") \\\n",
    "  .option(\"kafka.bootstrap.servers\", \"kafka:9092\") \\\n",
    "  .option(\"subscribe\", \"ztf-stream\") \\\n",
    "  .option(\"startingOffsets\", \"earliest\") \\\n",
    "  .load()\n",
    "\n",
    "df.isStreaming"
   ]
  },
  {
   "cell_type": "markdown",
   "metadata": {},
   "source": [
    "As you can see, `df` is a streaming Dataframe. You can start streaming computation, by defining the sink and starting it. \n",
    "<!-- In our case, we want to interactively query the counts (same queries as above), so we will set the complete set of 1 hour counts to be in a in-memory table (note that this for testing purpose only in Spark 2.0). -->"
   ]
  },
  {
   "cell_type": "markdown",
   "metadata": {},
   "source": [
    "## Step 2: Filtering the stream\n",
    "\n",
    "In this section, we will design simple fiters to interact with the stream and extract only relevant information for us. Let's first create a sink and grab all the alerts:"
   ]
  },
  {
   "cell_type": "code",
   "execution_count": 4,
   "metadata": {},
   "outputs": [],
   "source": [
    "rawQuery = df\\\n",
    "    .writeStream \\\n",
    "    .queryName(\"qraw\")\\\n",
    "    .format(\"memory\")\\\n",
    "    .start()"
   ]
  },
  {
   "cell_type": "code",
   "execution_count": 5,
   "metadata": {},
   "outputs": [],
   "source": [
    "# Give a bit of time for synchronisation\n",
    "time.sleep(10)"
   ]
  },
  {
   "cell_type": "code",
   "execution_count": 11,
   "metadata": {},
   "outputs": [
    {
     "name": "stdout",
     "output_type": "stream",
     "text": [
      "jovyan      48    30  2 21:35 ?        00:00:26 /usr/lib/jvm/java-8-openjdk-amd64/jre/bin/java -cp /usr/local/spark/conf/:/usr/local/spark/jars/* -Xmx1g org.apache.spark.deploy.SparkSubmit --name PySparkShell --packages org.apache.spark:spark-streaming-kafka-0-10-assembly_2.10:2.2.0,org.apache.spark:spark-sql-kafka-0-10_2.11:2.4.0 pyspark-shell\r\n",
      "jovyan     138   116 15 21:36 ?        00:02:53 /usr/lib/jvm/java-8-openjdk-amd64/jre/bin/java -cp /usr/local/spark/conf/:/usr/local/spark/jars/* -Xmx1g org.apache.spark.deploy.SparkSubmit --name PySparkShell --packages org.apache.spark:spark-streaming-kafka-0-10-assembly_2.10:2.2.0,org.apache.spark:spark-sql-kafka-0-10_2.11:2.4.0 pyspark-shell\r\n",
      "jovyan     480   464  2 21:42 ?        00:00:18 /usr/lib/jvm/java-8-openjdk-amd64/jre/bin/java -cp /usr/local/spark/conf/:/usr/local/spark/jars/* -Xmx1g org.apache.spark.deploy.SparkSubmit --name PySparkShell --packages org.apache.spark:spark-streaming-kafka-0-10-assembly_2.10:2.2.0,org.apache.spark:spark-sql-kafka-0-10_2.11:2.4.0 pyspark-shell\r\n",
      "jovyan     886   870 26 21:50 ?        00:01:10 /usr/lib/jvm/java-8-openjdk-amd64/jre/bin/java -cp /usr/local/spark/conf/:/usr/local/spark/jars/* -Xmx1g org.apache.spark.deploy.SparkSubmit --name PySparkShell --packages org.apache.spark:spark-streaming-kafka-0-10-assembly_2.10:2.2.0,org.apache.spark:spark-sql-kafka-0-10_2.11:2.4.0 pyspark-shell\r\n",
      "jovyan    1086   870 28 21:54 pts/1    00:00:00 /bin/sh -c ps -ef | grep spark-shell\r\n",
      "jovyan    1088  1086  0 21:54 pts/1    00:00:00 grep spark-shell\r\n"
     ]
    }
   ],
   "source": [
    "!ps -ef | grep spark-shell"
   ]
  },
  {
   "cell_type": "code",
   "execution_count": 15,
   "metadata": {},
   "outputs": [],
   "source": [
    "!kill -9 116"
   ]
  },
  {
   "cell_type": "code",
   "execution_count": 16,
   "metadata": {},
   "outputs": [
    {
     "name": "stdout",
     "output_type": "stream",
     "text": [
      "+----+--------------------+----------+---------+------+--------------------+-------------+\n",
      "| key|               value|     topic|partition|offset|           timestamp|timestampType|\n",
      "+----+--------------------+----------+---------+------+--------------------+-------------+\n",
      "|null|[06 33 2E 32 32 5...|ztf-stream|        0|   998|2019-04-01 21:08:...|            0|\n",
      "|null|[06 33 2E 32 32 5...|ztf-stream|        0|   999|2019-04-01 21:08:...|            0|\n",
      "|null|[06 33 2E 32 32 5...|ztf-stream|        0|  1000|2019-04-01 21:08:...|            0|\n",
      "|null|[06 33 2E 32 32 5...|ztf-stream|        0|  1001|2019-04-01 21:08:...|            0|\n",
      "|null|[06 33 2E 32 32 5...|ztf-stream|        0|  1002|2019-04-01 21:08:...|            0|\n",
      "|null|[06 33 2E 32 32 5...|ztf-stream|        0|  1003|2019-04-01 21:08:...|            0|\n",
      "|null|[06 33 2E 32 32 5...|ztf-stream|        0|  1004|2019-04-01 21:08:...|            0|\n",
      "|null|[06 33 2E 32 32 5...|ztf-stream|        0|  1005|2019-04-01 21:08:...|            0|\n",
      "|null|[06 33 2E 32 32 5...|ztf-stream|        0|  1006|2019-04-01 21:08:...|            0|\n",
      "|null|[06 33 2E 32 32 5...|ztf-stream|        0|  1007|2019-04-01 21:08:...|            0|\n",
      "+----+--------------------+----------+---------+------+--------------------+-------------+\n",
      "only showing top 10 rows\n",
      "\n"
     ]
    }
   ],
   "source": [
    "# Construct your DataFrame with data from Kafka\n",
    "df_raw = spark.sql(\"select * from qraw\")\n",
    "df_raw.show(10)"
   ]
  },
  {
   "cell_type": "markdown",
   "metadata": {},
   "source": [
    "We can look closely at the columns of this Dataframe:"
   ]
  },
  {
   "cell_type": "code",
   "execution_count": 17,
   "metadata": {},
   "outputs": [
    {
     "name": "stdout",
     "output_type": "stream",
     "text": [
      "root\n",
      " |-- key: binary (nullable = true)\n",
      " |-- value: binary (nullable = true)\n",
      " |-- topic: string (nullable = true)\n",
      " |-- partition: integer (nullable = true)\n",
      " |-- offset: long (nullable = true)\n",
      " |-- timestamp: timestamp (nullable = true)\n",
      " |-- timestampType: integer (nullable = true)\n",
      "\n",
      "+-------+----------+---------+------------------+-------------+\n",
      "|summary|     topic|partition|            offset|timestampType|\n",
      "+-------+----------+---------+------------------+-------------+\n",
      "|  count|       499|      499|               499|          499|\n",
      "|   mean|      null|      0.0|            1247.0|          0.0|\n",
      "| stddev|      null|      0.0|144.19315748906627|          0.0|\n",
      "|    min|ztf-stream|        0|               998|            0|\n",
      "|    max|ztf-stream|        0|              1496|            0|\n",
      "+-------+----------+---------+------------------+-------------+\n",
      "\n"
     ]
    }
   ],
   "source": [
    "df_raw.printSchema()\n",
    "df_raw.describe().show()"
   ]
  },
  {
   "cell_type": "markdown",
   "metadata": {},
   "source": [
    "The column of interest for us is `value` which contains the alert data. For the moment, the data is `binary`, so let's decode it. First read the corresponding schema (ZTF in this example):"
   ]
  },
  {
   "cell_type": "code",
   "execution_count": 18,
   "metadata": {},
   "outputs": [
    {
     "name": "stdout",
     "output_type": "stream",
     "text": [
      "dict_keys(['type', 'version', 'name', 'namespace', 'fields', 'doc'])\n"
     ]
    }
   ],
   "source": [
    "# Read the schema\n",
    "alert_schema = avroUtils.readSchemaFromAvroFile(\"../schemas/template_schema_ZTF.avro\")\n",
    "\n",
    "# Broadcast the schema to all Spark executors\n",
    "# (Keep in mind we work in a distributed environment!)\n",
    "sc.broadcast(alert_schema)\n",
    "\n",
    "# Look at the available keys\n",
    "print(alert_schema.keys())"
   ]
  },
  {
   "cell_type": "markdown",
   "metadata": {},
   "source": [
    "Now we have the schema, we can decode the alerts. For technical reason, you need to go to RDD world to use in a meaningful way the decoder:"
   ]
  },
  {
   "cell_type": "code",
   "execution_count": 19,
   "metadata": {},
   "outputs": [],
   "source": [
    "# RDD: Resilient Distributed Dataset.\n",
    "# Both Spark DataFrames and RDDs are distributed memory abstractions, fault-tolerant and immutable.\n",
    "# The main difference is that Dataframes are organized into named columns with defined \n",
    "# data types and including the benefits of Spark SQL's execution engine.\n",
    "# Historically, there were only RDDs. DataFrame came later in Spark.\n",
    "rdd_alerts = df_raw.select(\"value\").rdd.map(lambda x: avroUtils.decoder(x.value, alert_schema))"
   ]
  },
  {
   "cell_type": "markdown",
   "metadata": {},
   "source": [
    "And here is one full alert:"
   ]
  },
  {
   "cell_type": "code",
   "execution_count": 20,
   "metadata": {},
   "outputs": [
    {
     "data": {
      "text/plain": [
       "dict_keys(['schemavsn', 'publisher', 'objectId', 'candid', 'candidate', 'prv_candidates', 'cutoutScience', 'cutoutTemplate', 'cutoutDifference'])"
      ]
     },
     "execution_count": 20,
     "metadata": {},
     "output_type": "execute_result"
    }
   ],
   "source": [
    "rdd_alerts.take(1)[0].keys()"
   ]
  },
  {
   "cell_type": "markdown",
   "metadata": {},
   "source": [
    "### Classifying alerts"
   ]
  },
  {
   "cell_type": "markdown",
   "metadata": {},
   "source": [
    "In this section, we want to classify the alerts into 2 big classes: known objects vs unknown objects. And for known objects, we want to retrieve known information such as the name and type of each object. It is a standard problem of cross-match, but in real-time! In order to not rely on hard-coded catalogs, we will connect to remote databases, and query them with the data in our alerts (ra/dec-based)."
   ]
  },
  {
   "cell_type": "markdown",
   "metadata": {},
   "source": [
    "We want to connect to the CDS Strasbourg, and perform real-time classification for known objects. We use the CDS X-Match service (http://cdsxmatch.u-strasbg.fr/), and the SIMBAD bibliographical database (updated each day). \n",
    "\n",
    "Let's first inspect output from the CDS X-Match service:"
   ]
  },
  {
   "cell_type": "code",
   "execution_count": 21,
   "metadata": {},
   "outputs": [
    {
     "name": "stdout",
     "output_type": "stream",
     "text": [
      "angDist,ra_in,dec_in,objectId,main_id,ra,dec,coo_err_maj,coo_err_min,coo_err_angle,nbref,ra_sexa,dec_sexa,main_type,other_types,radvel,redshift,sp_type,morph_type,plx,pmra,pmdec,size_maj,size_min,size_angle,B,V,R,J,H,K,u,g,r,i,z\n",
      "\n",
      "0.745488,7.465,38.324167,toto,HD   2611,7.4652624005,+38.3241445286,0.000,0.000,90,13,00 29 51.66298,+38 19 26.9203,PM*,*  |IR |UV |PM*,-32.4400,,F8,,12.8013,-49.47,-84.98,,,,7.970,7.450,,6.466,6.272,6.212,,,,,\n",
      "\n",
      "1.010772,9.805417,3.134167,titi,HD   3628,9.8052720833,+3.1339263889,0.000,0.000,90,108,00 39 13.2653 ,+03 08 02.135 ,PM*,V* |IR |*  |PM*|PM*|PM*,-27.2100,,G3V,,23.0200,783.71,297.93,,,,7.980,7.300,6.900,6.192,5.896,5.806,,,,,\n",
      "\n",
      "1.357510,10.665417,71.366944,tata,BD+70    39B,10.6647407637,+71.3672530503,0.000,0.000,90,8,00 42 39.53778,+71 22 02.1110,Star,** |*  |IR,-11.0000,,A1,,3.4957,19.97,-7.84,,,,8.070,8.050,,7.847,7.859,7.902,,,,,\n",
      "\n",
      "4.120559,10.665417,71.366944,tata,HD   3891,10.6668410096,+71.3658937187,0.007,0.007,90,16,00 42 40.04184,+71 21 57.2174,**,*i*|IR |*  |UV |**,-15.0000,,A0,,3.6100,17.83,-5.67,,,,8.000,8.000,,7.704,7.837,7.721,,,,,\n",
      "\n",
      "4.364699,10.665417,71.366944,tata,BD+70    39A,10.6669583333,+71.3658361111,0.032,0.029,0,3,00 42 40.070  ,+71 21 57.01  ,Star,** |** |*,,,,,,33.30,-29.00,,,,7.791,7.801,,,,,,,,,\n",
      "\n",
      "\n"
     ]
    }
   ],
   "source": [
    "# Build fake table of RA,DEC,objectID\n",
    "table = \"\"\"ra_in,dec_in,objectId\n",
    "7.465000,38.324167,toto\n",
    "9.805417,3.134167,titi\n",
    "10.665417,71.366944,tata\n",
    "233.190417,68.866667,tutu\n",
    "\"\"\"\n",
    "\n",
    "r = requests.post(\n",
    "         'http://cdsxmatch.u-strasbg.fr/xmatch/api/v1/sync',\n",
    "         data={'request': 'xmatch', 'distMaxArcsec': 5, 'RESPONSEFORMAT': 'csv',\n",
    "         'cat2': 'simbad', 'colRA1': 'ra_in', 'colDec1': 'dec_in'},\n",
    "         files={'cat1': table})\n",
    "\n",
    "print(r.text.replace(\"\\n\", \"\\n\\n\"))"
   ]
  },
  {
   "cell_type": "markdown",
   "metadata": {},
   "source": [
    "OK it returns many things, and among those we are mainly interested in `ra_in,dec_in,objectId,main_id,main_type` to see if the alert corresponds to something known.\n",
    "\n",
    "Let's do via Spark. It requires a bit of tweaking so avoid overcrowding the CDS servers with too many requests. The idea is to send a list of alerts at once. The list will be generating inside each Spark partition (only one partition in this local example), and then we build a Dataframe with outputs:"
   ]
  },
  {
   "cell_type": "code",
   "execution_count": 22,
   "metadata": {},
   "outputs": [],
   "source": [
    "def cross_match_alerts(partition: Iterator) -> Generator:\n",
    "    \"\"\" Query the CDSXmatch service to find identified objects\n",
    "    in alerts. The catalog queried is the SIMBAD bibliographical database.\n",
    "    We can also use the 10,000+ VizieR tables if needed :-)\n",
    "    \n",
    "    Parameters\n",
    "    ----------\n",
    "    part: Iterator\n",
    "        Spark partition containing alert ID, ra, dec.\n",
    "    \n",
    "    Returns\n",
    "    ----------\n",
    "    out: Generator of tuples \n",
    "        Tuple with (objectId, ra, dec, name, type).\n",
    "        If the object is not found in Simbad, name & type\n",
    "        are marked as Unknown. In the case several objects match\n",
    "        the centroid of the alert, only the closest is returned.\n",
    "    \"\"\"\n",
    "    # Unwrap partition data\n",
    "    data = [*partition]\n",
    "    oid, ra, dec = np.transpose(data)\n",
    "    \n",
    "    def generate_csv(s: str, lra: list, ldec: list, loid: list):\n",
    "        \"\"\" Insert (lra[i],ldec[i],loid[i]) rows recursively in s.\n",
    "        \n",
    "        Parameters\n",
    "        ----------\n",
    "        s: str\n",
    "            String which will contain the data.\n",
    "            Should initially contain the CSV header.\n",
    "        lra: list of float\n",
    "            List of RA\n",
    "        ldec: list of float\n",
    "            List of Dec of the same size as lra.\n",
    "        loid: list of str\n",
    "            List of object ID used to match input with output\n",
    "            \n",
    "        Returns\n",
    "        ----------\n",
    "        s: str\n",
    "            Updated string with one row per line.\n",
    "        \"\"\"\n",
    "        if len(lra) > 0:\n",
    "            s = s + \"{},{},{}\\n \".format(lra[0], ldec[0], loid[0])\n",
    "            return generate_csv(s, lra[1:], ldec[1:], loid[1:])\n",
    "        else:\n",
    "            return s\n",
    "    \n",
    "    # Build a catalog of alert in a CSV-like string\n",
    "    table_header = \"\"\"ra_in,dec_in,objectId\\n\"\"\"\n",
    "    table = generate_csv(table_header, ra, dec, oid)\n",
    "    \n",
    "    # Send the request!\n",
    "    r = requests.post(\n",
    "         'http://cdsxmatch.u-strasbg.fr/xmatch/api/v1/sync',\n",
    "         data={\n",
    "             'request': 'xmatch', \n",
    "             'distMaxArcsec': 1, \n",
    "             'selection': 'all',\n",
    "             'RESPONSEFORMAT': 'csv',\n",
    "             'cat2': 'simbad', \n",
    "             'colRA1': 'ra_in', \n",
    "             'colDec1': 'dec_in'},\n",
    "         files={'cat1': table})\n",
    "    \n",
    "    # Decode the message, and split line by line\n",
    "    # First line is header - last is empty\n",
    "    data = r.content.decode().split(\"\\n\")[1:-1]\n",
    "    header = r.content.decode().split(\"\\n\")[0].split(\",\")\n",
    "    \n",
    "    # Fields of interest (their indices in the output)\n",
    "    main_id = header.index(\"main_id\")\n",
    "    main_type = header.index(\"main_type\")\n",
    "    ra_ind = header.index(\"ra_in\")\n",
    "    dec_ind = header.index(\"dec_in\")\n",
    "    oid_ind = header.index(\"objectId\")\n",
    "    \n",
    "    # Get the (ra, dec) of matches\n",
    "    radec_out = [\n",
    "        (float(np.array(i.split(\",\"))[ra_ind]), \n",
    "         float(np.array(i.split(\",\"))[dec_ind])) for i in data]\n",
    "    \n",
    "    # Get the objectId of matches\n",
    "    id_out = [np.array(i.split(\",\"))[oid_ind] for i in data]\n",
    "    \n",
    "    # Get the names of matches\n",
    "    names = [np.array(i.split(\",\"))[main_id] for i in data]\n",
    "    \n",
    "    # Get the types of matches\n",
    "    types = [np.array(i.split(\",\"))[main_type] for i in data]\n",
    "    \n",
    "    # Assign names and types to inputs\n",
    "    out = []\n",
    "    for ra_in, dec_in, id_in in zip(ra, dec, oid):\n",
    "        # cast for picky Spark\n",
    "        ra_in, dec_in = float(ra_in), float(dec_in)\n",
    "        id_in = str(id_in)\n",
    "        \n",
    "        # Discriminate with the objectID\n",
    "        if id_in in id_out:\n",
    "            # Return the closest object in case of many (smallest angular distance)\n",
    "            index = id_out.index(id_in)\n",
    "            out.append((id_in, ra_in, dec_in, str(names[index]), str(types[index])))\n",
    "        else:\n",
    "            # Mark as unknown if no match\n",
    "            out.append((id_in, ra_in, dec_in, \"Unknown\", \"Unknown\"))\n",
    "    \n",
    "    yield out"
   ]
  },
  {
   "cell_type": "code",
   "execution_count": 23,
   "metadata": {},
   "outputs": [
    {
     "name": "stdout",
     "output_type": "stream",
     "text": [
      "+------------+------------+-------------+---------------------+-------+\n",
      "|    objectId|candidate:ra|candidate:dec|Closest Simbad object|   type|\n",
      "+------------+------------+-------------+---------------------+-------+\n",
      "|ZTF18abyouwp|  26.8566983|  -26.9677112|       TYC 6431-115-1|   Star|\n",
      "|ZTF18acsbjqe|    26.24497|  -26.7569436|              Unknown|Unknown|\n",
      "|ZTF18acaixum|  26.1126147|  -26.8053928|              Unknown|Unknown|\n",
      "|ZTF18acsbjqg|  25.5844032|  -27.9239037|              Unknown|Unknown|\n",
      "|ZTF18acsbjqi|  25.5902591|  -27.9131274|              Unknown|Unknown|\n",
      "|ZTF18acsbjqf|  26.0145383|  -27.9003972|              Unknown|Unknown|\n",
      "|ZTF18acsbjqh|  25.6648433|  -27.8417869|              Unknown|Unknown|\n",
      "|ZTF18acsbjou|  24.4538066|  -27.0766656|              Unknown|Unknown|\n",
      "|ZTF18abvdmcb|  24.9350326|  -26.5438418| CRTS J013944.5-26...|  RRLyr|\n",
      "|ZTF18acsbjpf|   23.517342|  -27.0446981|              Unknown|Unknown|\n",
      "+------------+------------+-------------+---------------------+-------+\n",
      "only showing top 10 rows\n",
      "\n"
     ]
    }
   ],
   "source": [
    "# Pipeline for real-time classification\n",
    "colnames_input = [\n",
    "    \"objectId\",\n",
    "    \"candidate:ra\", \"candidate:dec\"\n",
    "]\n",
    "\n",
    "df_simple = make_dataframe_from_alerts(rdd_alerts, colnames_input)\n",
    "\n",
    "colnames_output = [\n",
    "    \"objectId\", \n",
    "    \"candidate:ra\", \"candidate:dec\", \n",
    "    \"Closest Simbad object\", \"type\"\n",
    "]\n",
    "\n",
    "df_type = (df_simple.rdd\n",
    "    # Send request to CDS and return matches\n",
    "    .mapPartitions(lambda x: cross_match_alerts(x))\n",
    "    # Flatten the output\n",
    "    .flatMap(lambda x: x)\n",
    "    # Make a Dataframe\n",
    "    .toDF(colnames_output))\n",
    "\n",
    "df_type.show(10)"
   ]
  },
  {
   "cell_type": "markdown",
   "metadata": {},
   "source": [
    "Neat! And fast! Let's group alerts by object types:"
   ]
  },
  {
   "cell_type": "code",
   "execution_count": 24,
   "metadata": {},
   "outputs": [
    {
     "name": "stdout",
     "output_type": "stream",
     "text": [
      "+-------------+-----+\n",
      "|         type|count|\n",
      "+-------------+-----+\n",
      "|        GinCl|    1|\n",
      "|          AGN|    1|\n",
      "|   PulsV*WVir|    1|\n",
      "|Candidate_EB*|    1|\n",
      "|      EB*WUMa|   16|\n",
      "|        AMHer|    1|\n",
      "|      Unknown|  375|\n",
      "|          HB*|    4|\n",
      "|AGN_Candidate|    1|\n",
      "|         Blue|    1|\n",
      "|    Seyfert_1|    3|\n",
      "|    EB*betLyr|    1|\n",
      "|         LPV*|    1|\n",
      "|        BLLac|    2|\n",
      "|          QSO|    2|\n",
      "|         Star|   25|\n",
      "|        RRLyr|   63|\n",
      "+-------------+-----+\n",
      "\n"
     ]
    }
   ],
   "source": [
    "df_group = df_type.groupBy(\"type\").count()\n",
    "df_group.show()\n",
    "\n",
    "# Check we did not miss alerts\n",
    "assert(df_simple.count() == np.sum(df_group.select(\"count\").rdd.collect()))"
   ]
  },
  {
   "cell_type": "markdown",
   "metadata": {},
   "source": [
    "And plot it:"
   ]
  },
  {
   "cell_type": "code",
   "execution_count": 25,
   "metadata": {},
   "outputs": [],
   "source": [
    "pandas_df = df_group.toPandas()"
   ]
  },
  {
   "cell_type": "code",
   "execution_count": 26,
   "metadata": {},
   "outputs": [
    {
     "data": {
      "text/plain": [
       "Text(0.5,0,'Alert entry')"
      ]
     },
     "execution_count": 26,
     "metadata": {},
     "output_type": "execute_result"
    },
    {
     "data": {
      "image/png": "[encoded data removed]",
      "text/plain": [
       "<Figure size 720x504 with 1 Axes>"
      ]
     },
     "metadata": {
      "needs_background": "light"
     },
     "output_type": "display_data"
    }
   ],
   "source": [
    "matplotlib.rcParams.update({'font.size': 17})\n",
    "fig, ax = plt.subplots(1, 1, figsize=(10, 7))\n",
    "pandas_df.plot(\"type\", \"count\", kind=\"barh\", ax=ax)\n",
    "ax.set_xscale(\"log\")\n",
    "ax.set_ylabel(\"Object type from Simbad\")\n",
    "ax.set_xlabel(\"Alert entry\")"
   ]
  },
  {
   "cell_type": "markdown",
   "metadata": {},
   "source": [
    "For description of types, see: http://cds.u-strasbg.fr/cgi-bin/Otype?X"
   ]
  },
  {
   "cell_type": "markdown",
   "metadata": {},
   "source": [
    "Et voilà!"
   ]
  }
 ],
 "metadata": {
  "kernelspec": {
   "display_name": "Python 3",
   "language": "python",
   "name": "python3"
  },
  "language_info": {
   "codemirror_mode": {
    "name": "ipython",
    "version": 3
   },
   "file_extension": ".py",
   "mimetype": "text/x-python",
   "name": "python",
   "nbconvert_exporter": "python",
   "pygments_lexer": "ipython3",
   "version": "3.6.8"
  }
 },
 "nbformat": 4,
 "nbformat_minor": 2
}
