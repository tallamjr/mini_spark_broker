{
 "cells": [
  {
   "cell_type": "markdown",
   "metadata": {},
   "source": [
    "# Mini Spark Broker: LSST alert system & ZTF alerts\n",
    "\n",
    "author: **Julien Peloton** [@JulienPeloton](https://github.com/JulienPeloton)  \n",
    "Last Verifed to Run: 2019-02-04  \n",
    "\n",
    "Welcome to the first part of this broker bootcamp!\n",
    "The purpose of this notebook is to describe the LSST alert system. \n",
    "For the purpose of this bootcamp, we will be using the ZTF public alerts. This repo contains all you need to download the alerts, make a stream with it, and play with the stream!\n",
    "\n",
    "**Useful Links:**\n",
    "\n",
    "* https://github.com/lsst-dm/alert_stream\n",
    "* https://docs.docker.com/compose/\n",
    "* https://kafka.apache.org/\n",
    "\n",
    "**Reference documents mentionning the LSST alert system:**\n",
    "\n",
    "* LDM-612: Plans and Policies for LSST Alert Distribution: [repo](https://github.com/lsst/LDM-612)\n",
    "* DMTN-028: Benchmarking a distribution system for LSST alerts: [webpage](https://dmtn-028.lsst.io/)\n",
    "* DMTN-081: Deploying an alert stream mini-broker prototype: [webpage](https://dmtn-081.lsst.io/)\n",
    "* DMTN-092: Alert Production Pipeline Interfaces: [webpage](https://dmtn-092.lsst.io/)\n",
    "* DMTN-093: Design of the LSST Alert Distribution System: [webpage](https://dmtn-093.lsst.io/)"
   ]
  },
  {
   "cell_type": "markdown",
   "metadata": {},
   "source": [
    "## LSST alert system\n",
    "\n",
    "### Definition\n",
    "\n",
    "After each visit, and mainly based on image differencing, the LSST's alert-time Prompt Processing pipelines will report alerts. Alerts will be collected and issued as stream by the LSST alert system. Third-party community brokers will then receive the full stream of alerts and refine the selection of events of interest, extracting relevant scientfic events. However given the high volume of data to be transfered, only a limited number of brokers will be allowed to connect to the full stream of alerts. Therefore, a simple filtering service will also be provided by LSST for smaller use of the alert stream. In this note, we only focus on a community broker receiving the full stream of alerts.\n",
    "\n",
    "Data processing leading to alerts will occur in the LSST Data Facility (LDF) at the National Center for Supercomputing Applications (NCSA) in Illinois, USA. The LDF also hosts the alert stream feeds to community brokers.\n",
    "\n",
    "Note from the LDM-612: _Due to the need for Data Release Production-derived templates, Alert Production cannot run at full scale and full fidelity during commissioning nor the first year of operations. LSST DM is currently investigating options for Alert Production in year one._\n",
    "\n",
    "### Anatomy of an alert: Apache Avro\n",
    "\n",
    "The format chosen for the alert is Apache Avro. Each file has a JSON header containing the metadata, and data is serialised in a compact binary format.\n",
    "An alert contains information about the dectection itself (ID, timestamp, ...) but also historical lightcurve, cutout images, timeseries features, and other contextual information. An alert is typically O(100) KB.\n",
    "\n",
    "### Alert distribution: Apache Kafka\n",
    "\n",
    "Apache Kafka is a distributed streaming platform. From our perspective (complete documentation [here](https://kafka.apache.org/documentation/)), that is a client of a Kafka cluster, the most relevant aspects of it are:\n",
    "\n",
    "* Kafka publishes streams of records (= the alerts). \n",
    "* Kafka stores streams of records in a fault-tolerant durable way (= keep alive the alerts some time with guarantee it will not disappear). \n",
    "* For each stream of records, the Kafka cluster maintains a partitioned log (= alerts are distributed amond several machines).\n",
    "\n",
    "In addition, two important properties:\n",
    "\n",
    "* Communications between Kafka servers and the outside world are simply done using a language agnostic TCP protocol.\n",
    "* The Kafka cluster durably persists all published records—whether or not they have been consumed—using a configurable retention period.\n",
    "\n",
    "\n",
    "Kafka has its own naming of things. Here is an attemps to give definitions of most commonly used things, and relate those to LSST alert system components:\n",
    "\n",
    "| Kafka name   | Kafka definition  | Corresponding LSST alert system object |\n",
    "|--------------|--------------------------|---------------------------------|\n",
    "| topic        | category or feed name to which records are published (= stream of records)    | category or feed name to which alerts are published (= stream of alerts)\n",
    "| record       | an entry to the commit log. Each record consists of a key, a value, and a timestamp.             | alert\n",
    "\n",
    "Topics in Kafka are always multi-subscriber; that is, a topic can have zero, one, or many consumers that subscribe to the data written to it.\n",
    "Each partition is an ordered, immutable sequence of records that is continually appended to a structured commit log. The records in the partitions are each assigned a sequential `id` number called the `offset` that uniquely identifies each record within the partition. \n",
    "\n",
    "### Numbers and Requirements\n",
    "\n",
    "#### Alert Stream size\n",
    "\n",
    "Alerts are issued within 60 seconds of the shutter closure after each visit. Each visit produces O(10,000) alerts, each alert is O(100) KB, and there is O(30) seconds in between two visits. For 8 hours observation per night, this leads to a stream of O(1) TB per night.\n",
    "\n",
    "#### Number of Brokers with full stream access\n",
    "\n",
    "An allocation of 10 Gbps is baselined for alert stream transfer from the LDF. Given the alert stream size, this constrains the number brokers that can receive the full stream of alerts to a few.\n",
    "\n",
    "#### Data retention periods\n",
    "\n",
    "Keeping alert data available for some time is generally a good idea, as it allows a longer time window to analyse alerts if needed. All alerts will be stored in an archive in the DACs (incl. CC-IN2P3). *Need to know when this is updated/done and accessible*.\n",
    "\n",
    "#### Shortest time to alert data products\n",
    "\n",
    "A number of measurements will be stored at the alert moment in the Prompt Product Database (DIASource, etc.) and some others will be available within 24 hours (e.g. forced photometry, survey precovery for a limited number of objects, processed visit images). This service will be accessible through the LSST Science Platform.\n"
   ]
  },
  {
   "cell_type": "markdown",
   "metadata": {},
   "source": [
    "## ZTF alerts"
   ]
  },
  {
   "cell_type": "markdown",
   "metadata": {},
   "source": [
    "Documentation can be found at: https://github.com/ZwickyTransientFacility/ztf-avro-alert"
   ]
  }
 ],
 "metadata": {
  "kernelspec": {
   "display_name": "Python [default]",
   "language": "python",
   "name": "python3"
  },
  "language_info": {
   "codemirror_mode": {
    "name": "ipython",
    "version": 3
   },
   "file_extension": ".py",
   "mimetype": "text/x-python",
   "name": "python",
   "nbconvert_exporter": "python",
   "pygments_lexer": "ipython3",
   "version": "3.6.4"
  }
 },
 "nbformat": 4,
 "nbformat_minor": 2
}
