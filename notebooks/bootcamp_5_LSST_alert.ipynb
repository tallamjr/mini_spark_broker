{
 "cells": [
  {
   "cell_type": "markdown",
   "metadata": {},
   "source": [
    "# Mini Spark Broker: using official LSST alerts\n",
    "\n",
    "author: **Julien Peloton** [@JulienPeloton](https://github.com/JulienPeloton)  \n",
    "Last Verifed to Run: 2019-02-06  \n",
    "\n",
    "The purpose of this notebook is to connect the broker to the stream created by the LSST alert system _with LSST alerts_.\n",
    "\n",
    "**Useful Links:**\n",
    "\n",
    "* https://spark.apache.org/docs/latest/structured-streaming-programming-guide.html\n",
    "* https://github.com/lsst-dm/alert_stream"
   ]
  },
  {
   "cell_type": "code",
   "execution_count": 1,
   "metadata": {},
   "outputs": [],
   "source": [
    "from pyspark.sql import SparkSession\n",
    "from pyspark.sql.functions import window\n",
    "from pyspark.sql import Row\n",
    "\n",
    "import io\n",
    "import time\n",
    "import struct\n",
    "\n",
    "import fastavro\n",
    "import numpy as np\n",
    "\n",
    "import matplotlib\n",
    "import matplotlib.pyplot as plt\n",
    "import matplotlib.dates as mdates\n",
    "\n",
    "from desc.msb import avroUtils\n",
    "from desc.msb.filtering import make_dataframe_from_alerts\n",
    "from desc.msb.monitoring import recentrecentProgress"
   ]
  },
  {
   "cell_type": "markdown",
   "metadata": {},
   "source": [
    "## Step 0: Running the LSST alert system with LSST alerts\n",
    "\n",
    "In order to play with this notebook, you need to create the stream of alerts from LSST. This is very similar to the ZTF one we played with so far, with few modifications though. The best, in order to avoid any conflicting situation is to grab the official LSST alert stream repo and create the stream from it. Here are the steps to follow:\n",
    "\n",
    "```bash\n",
    "# Go to where you put user lib\n",
    "# Clone the repo (make sure you have git-lfs to pull the data)\n",
    "git clone https://github.com/lsst-dm/alert_stream.git\n",
    "\n",
    "# Checkout current working branch\n",
    "cd alert_stream && git checkout tickets/DM-17549\n",
    "\n",
    "# Launch Zookeeper & Kafka servers\n",
    "# Network name will be alert_stream_default\n",
    "docker-compose up -d\n",
    "\n",
    "# Build the container\n",
    "docker build -t \"alert_stream\" .\n",
    "\n",
    "# Launch the stream\n",
    "docker run -it --rm \\\n",
    "    --network=alert_stream_default \\\n",
    "    -v $PWD/data:/home/alert_stream/data:ro \\\n",
    "    alert_stream python bin/sendAlertStream.py \\\n",
    "    kafka:9092 lsst-stream\n",
    "```\n",
    "\n",
    "From this point, a stream with 4 bursts of 10,000 alerts each will be created. Then launch the bootcamp with the `alert_stream_default` network:\n",
    "\n",
    "```bash\n",
    "###################################\n",
    "# Mini Spark Broker with LSST alerts\n",
    "###################################\n",
    "\n",
    "# Kafka dependencies\n",
    "KFKSTREAM=org.apache.spark:spark-streaming-kafka-0-10-assembly_2.10:2.2.0\n",
    "KFKSQL=org.apache.spark:spark-sql-kafka-0-10_2.11:2.4.0\n",
    "\n",
    "# Network used by the LSST alert system\n",
    "NETWORK=alert_stream_default\n",
    "\n",
    "# Run jupyter through the Docker\n",
    "docker run -it --rm  \\\n",
    "\t-v $PWD:/home/jovyan/work:rw -p 8888:8888 -p 400:4040 \\\n",
    "    --network=${NETWORK} -P msb \\\n",
    "\t/usr/local/spark/bin/pyspark --packages ${KFKSTREAM},${KFKSQL}\n",
    "```\n",
    "\n",
    "Done. You can play this notebook with LSST alerts!"
   ]
  },
  {
   "cell_type": "markdown",
   "metadata": {},
   "source": [
    "## Step 1: Connecting to the stream with Apache Spark\n",
    "\n",
    "Once the stream is produced, let's initialise the Spark context:"
   ]
  },
  {
   "cell_type": "code",
   "execution_count": 2,
   "metadata": {},
   "outputs": [],
   "source": [
    "# Grab the running Spark Session, \n",
    "# otherwise create it.\n",
    "spark = SparkSession \\\n",
    "    .builder \\\n",
    "    .appName(\"firstConnection\") \\\n",
    "    .getOrCreate()"
   ]
  },
  {
   "cell_type": "markdown",
   "metadata": {},
   "source": [
    "Let's initialise a DataFrame that will read the stream from Kafka. Note that `kafka.bootstrap.servers` and `subscribe` must correspond to the arguments used for the LSST alert system (see above). At this point, we just create a Kafka Source for Streaming Queries - nothing really happens:"
   ]
  },
  {
   "cell_type": "code",
   "execution_count": 3,
   "metadata": {},
   "outputs": [
    {
     "data": {
      "text/plain": [
       "True"
      ]
     },
     "execution_count": 3,
     "metadata": {},
     "output_type": "execute_result"
    }
   ],
   "source": [
    "# Create a DF from the incoming stream from Kafka\n",
    "# Note that <kafka.bootstrap.servers> and <subscribe>\n",
    "# must correspond to arguments of the LSST alert system.\n",
    "df = spark \\\n",
    "  .readStream \\\n",
    "  .format(\"kafka\") \\\n",
    "  .option(\"kafka.bootstrap.servers\", \"kafka:9092\") \\\n",
    "  .option(\"subscribe\", \"lsst-stream\") \\\n",
    "  .option(\"startingOffsets\", \"earliest\") \\\n",
    "  .load()\n",
    "\n",
    "df.isStreaming"
   ]
  },
  {
   "cell_type": "markdown",
   "metadata": {},
   "source": [
    "As you can see, `df` is a streaming Dataframe. You can start streaming computation, by defining the sink and starting it. \n",
    "<!-- In our case, we want to interactively query the counts (same queries as above), so we will set the complete set of 1 hour counts to be in a in-memory table (note that this for testing purpose only in Spark 2.0). -->"
   ]
  },
  {
   "cell_type": "markdown",
   "metadata": {},
   "source": [
    "## Step 2: First interaction with the stream\n",
    "\n",
    "Let's see first if we can receive correctly alert packets. For this, we define a query to the stream that will just group alerts by publication date (window of 5 seconds):"
   ]
  },
  {
   "cell_type": "code",
   "execution_count": 4,
   "metadata": {},
   "outputs": [],
   "source": [
    "# We group data by partitions, \n",
    "# and count the number of alerts per partition\n",
    "# every 5 seconds.\n",
    "streamingCountsDF = (\n",
    "  df.groupBy(\n",
    "      \"partition\", \n",
    "      window(\"timestamp\", \"5 seconds\"))\n",
    "    .count()\n",
    ")"
   ]
  },
  {
   "cell_type": "code",
   "execution_count": 5,
   "metadata": {},
   "outputs": [],
   "source": [
    "# keep the size of shuffles small\n",
    "spark.conf.set(\"spark.sql.shuffle.partitions\", \"2\")  \n",
    "\n",
    "# Trigger the streaming computation, \n",
    "# by defining the sink (memory here) and starting it\n",
    "countQuery = streamingCountsDF \\\n",
    "    .writeStream \\\n",
    "    .queryName(\"qcount\")\\\n",
    "    .format(\"memory\")\\\n",
    "    .outputMode(\"complete\") \\\n",
    "    .start()"
   ]
  },
  {
   "cell_type": "markdown",
   "metadata": {},
   "source": [
    "`qcount` is a handle to the streaming query that is running in the background. This query is continuously picking up alerts and updating the counts. Let's give a bit of time for the stream to update. "
   ]
  },
  {
   "cell_type": "code",
   "execution_count": 6,
   "metadata": {},
   "outputs": [],
   "source": [
    "time.sleep(10)"
   ]
  },
  {
   "cell_type": "markdown",
   "metadata": {},
   "source": [
    "You can easily access information about the progress in real-time:"
   ]
  },
  {
   "cell_type": "code",
   "execution_count": 7,
   "metadata": {
    "scrolled": true
   },
   "outputs": [
    {
     "data": {
      "text/plain": [
       "[{'id': '41e71f3a-4bf6-4ffa-86e2-52edd3bbc411',\n",
       "  'runId': 'a595fdd8-181e-4e97-8231-8c164fa2b225',\n",
       "  'name': 'qcount',\n",
       "  'timestamp': '2019-04-01T22:20:14.612Z',\n",
       "  'batchId': 0,\n",
       "  'numInputRows': 40000,\n",
       "  'processedRowsPerSecond': 3602.954422626554,\n",
       "  'durationMs': {'addBatch': 5254,\n",
       "   'getBatch': 11,\n",
       "   'getEndOffset': 0,\n",
       "   'queryPlanning': 504,\n",
       "   'setOffsetRange': 5173,\n",
       "   'triggerExecution': 11100,\n",
       "   'walCommit': 56},\n",
       "  'stateOperators': [{'numRowsTotal': 38,\n",
       "    'numRowsUpdated': 38,\n",
       "    'memoryUsedBytes': 8605,\n",
       "    'customMetrics': {'loadedMapCacheHitCount': 0,\n",
       "     'loadedMapCacheMissCount': 0,\n",
       "     'stateOnCurrentVersionSizeBytes': 8317}}],\n",
       "  'sources': [{'description': 'KafkaV2[Subscribe[lsst-stream]]',\n",
       "    'startOffset': None,\n",
       "    'endOffset': {'lsst-stream': {'0': 40000}},\n",
       "    'numInputRows': 40000,\n",
       "    'processedRowsPerSecond': 3602.954422626554}],\n",
       "  'sink': {'description': 'MemorySink'}},\n",
       " {'id': '41e71f3a-4bf6-4ffa-86e2-52edd3bbc411',\n",
       "  'runId': 'a595fdd8-181e-4e97-8231-8c164fa2b225',\n",
       "  'name': 'qcount',\n",
       "  'timestamp': '2019-04-01T22:20:25.742Z',\n",
       "  'batchId': 1,\n",
       "  'numInputRows': 0,\n",
       "  'inputRowsPerSecond': 0.0,\n",
       "  'processedRowsPerSecond': 0.0,\n",
       "  'durationMs': {'getEndOffset': 0,\n",
       "   'setOffsetRange': 26,\n",
       "   'triggerExecution': 32},\n",
       "  'stateOperators': [{'numRowsTotal': 38,\n",
       "    'numRowsUpdated': 0,\n",
       "    'memoryUsedBytes': 8605,\n",
       "    'customMetrics': {'loadedMapCacheHitCount': 0,\n",
       "     'loadedMapCacheMissCount': 0,\n",
       "     'stateOnCurrentVersionSizeBytes': 8317}}],\n",
       "  'sources': [{'description': 'KafkaV2[Subscribe[lsst-stream]]',\n",
       "    'startOffset': {'lsst-stream': {'0': 40000}},\n",
       "    'endOffset': {'lsst-stream': {'0': 40000}},\n",
       "    'numInputRows': 0,\n",
       "    'inputRowsPerSecond': 0.0,\n",
       "    'processedRowsPerSecond': 0.0}],\n",
       "  'sink': {'description': 'MemorySink'}}]"
      ]
     },
     "execution_count": 7,
     "metadata": {},
     "output_type": "execute_result"
    }
   ],
   "source": [
    "countQuery.recentProgress"
   ]
  },
  {
   "cell_type": "markdown",
   "metadata": {},
   "source": [
    "You can also use sql operations on the named in-memory query tables to create a classic DataFrame from the sink:"
   ]
  },
  {
   "cell_type": "code",
   "execution_count": 8,
   "metadata": {},
   "outputs": [
    {
     "name": "stdout",
     "output_type": "stream",
     "text": [
      "+-------------------+-------------------+----------------+\n",
      "|  starting_utc_time|    ending_utc_time|alerts_published|\n",
      "+-------------------+-------------------+----------------+\n",
      "|2019-04-01 22:09:55|2019-04-01 22:10:00|             726|\n",
      "|2019-04-01 22:10:00|2019-04-01 22:10:05|            1084|\n",
      "|2019-04-01 22:10:05|2019-04-01 22:10:10|            1160|\n",
      "|2019-04-01 22:10:10|2019-04-01 22:10:15|            1176|\n",
      "|2019-04-01 22:10:15|2019-04-01 22:10:20|            1189|\n",
      "|2019-04-01 22:10:20|2019-04-01 22:10:25|            1063|\n",
      "|2019-04-01 22:10:25|2019-04-01 22:10:30|            1197|\n",
      "|2019-04-01 22:10:30|2019-04-01 22:10:35|            1133|\n",
      "|2019-04-01 22:10:35|2019-04-01 22:10:40|             890|\n",
      "|2019-04-01 22:10:40|2019-04-01 22:10:45|             382|\n",
      "|2019-04-01 22:11:15|2019-04-01 22:11:20|            1086|\n",
      "|2019-04-01 22:11:20|2019-04-01 22:11:25|            1187|\n",
      "|2019-04-01 22:11:25|2019-04-01 22:11:30|            1133|\n",
      "|2019-04-01 22:11:30|2019-04-01 22:11:35|            1115|\n",
      "|2019-04-01 22:11:35|2019-04-01 22:11:40|            1187|\n",
      "|2019-04-01 22:11:40|2019-04-01 22:11:45|            1164|\n",
      "|2019-04-01 22:11:45|2019-04-01 22:11:50|            1299|\n",
      "|2019-04-01 22:11:50|2019-04-01 22:11:55|            1215|\n",
      "|2019-04-01 22:11:55|2019-04-01 22:12:00|             614|\n",
      "|2019-04-01 22:12:30|2019-04-01 22:12:35|             399|\n",
      "+-------------------+-------------------+----------------+\n",
      "only showing top 20 rows\n",
      "\n",
      "40000 alerts published so far from the stream\n"
     ]
    }
   ],
   "source": [
    "# Construct a DataFrame with time & number of alerts published by \n",
    "# window of 5 seconds\n",
    "df_alert_count = spark.sql(\n",
    "    \"\"\"\n",
    "    select \n",
    "        window.start as starting_utc_time, \n",
    "        window.end as ending_utc_time, \n",
    "        count as alerts_published \n",
    "    from \n",
    "        qcount \n",
    "    order by \n",
    "        ending_utc_time\n",
    "    \"\"\"\n",
    ")\n",
    "\n",
    "# Show the first rows of the DataFrame\n",
    "df_alert_count.show()\n",
    "\n",
    "# Count the number of alerts published so far\n",
    "nalerts = df_alert_count.select(\"alerts_published\").rdd.map(lambda x: x[0]).sum()\n",
    "print(\"{} alerts published so far from the stream\".format(nalerts))"
   ]
  },
  {
   "cell_type": "markdown",
   "metadata": {},
   "source": [
    "Note the columns `starting_time` and `ending_time` here correspond to the UTC times at which the alert has been published in Kafka (not the time at which you grab the alert).\n",
    "\n",
    "Below I plot the values collected after 4 full bursts of alerts sent:"
   ]
  },
  {
   "cell_type": "code",
   "execution_count": 9,
   "metadata": {},
   "outputs": [
    {
     "data": {
      "image/png": "[encoded data removed]",
      "text/plain": [
       "<Figure size 1080x360 with 1 Axes>"
      ]
     },
     "metadata": {
      "needs_background": "light"
     },
     "output_type": "display_data"
    },
    {
     "data": {
      "image/png": "[encoded data removed]",
      "text/plain": [
       "<Figure size 1080x360 with 1 Axes>"
      ]
     },
     "metadata": {
      "needs_background": "light"
     },
     "output_type": "display_data"
    }
   ],
   "source": [
    "matplotlib.rcParams.update({'font.size': 17})\n",
    "\n",
    "# Go to Pandas world for plotting\n",
    "pandas_df = df_alert_count.toPandas()\n",
    "\n",
    "fig = plt.figure(figsize=(15, 5))\n",
    "plt.plot(\n",
    "    pandas_df[\"ending_utc_time\"], \n",
    "    pandas_df[\"alerts_published\"], \n",
    "    ls=\"--\", lw=0.5, marker=\"o\", color=\"C0\")\n",
    "plt.grid()\n",
    "\n",
    "plt.ylim(0, pandas_df[\"alerts_published\"].max() + 1)\n",
    "plt.xlabel(\"Time UTC (DD HH:MM)\")\n",
    "plt.ylabel(\"Number of alerts published \\n per 5 seconds window\")\n",
    "\n",
    "plt.gcf().autofmt_xdate()\n",
    "\n",
    "fig = plt.figure(figsize=(15, 5))\n",
    "plt.plot(\n",
    "    pandas_df[\"ending_utc_time\"], \n",
    "    np.cumsum(pandas_df[\"alerts_published\"]), \n",
    "    ls=\"--\", marker=\"+\", lw=0.5, color=\"C1\")\n",
    "plt.grid()\n",
    "\n",
    "plt.xlabel(\"Time UTC (DD HH:MM)\")\n",
    "plt.ylabel(\"Number total of alerts published\")\n",
    "\n",
    "plt.gcf().autofmt_xdate()"
   ]
  },
  {
   "cell_type": "markdown",
   "metadata": {},
   "source": [
    "Note that this corresponds to publication times. If you want to look at Spark performances, you can open the Spark UI and browse logs of jobs: http://localhost:400. In this simple example, Spark consumes all alerts in less than a second. Alternatively, we set up a simple monitoring tool:"
   ]
  },
  {
   "cell_type": "code",
   "execution_count": 11,
   "metadata": {},
   "outputs": [
    {
     "data": {
      "image/png": "[encoded data removed]",
      "text/plain": [
       "<Figure size 1080x360 with 1 Axes>"
      ]
     },
     "metadata": {
      "needs_background": "light"
     },
     "output_type": "display_data"
    }
   ],
   "source": [
    "matplotlib.rcParams.update({'font.size': 17})\n",
    "\n",
    "fig, ax = plt.subplots(figsize=(15,5))\n",
    "\n",
    "# Will return data only if the \n",
    "# stream is live!\n",
    "colnames = [\"inputRowsPerSecond\", \"processedRowsPerSecond\", \"timestamp\"]\n",
    "dfp = recentrecentProgress(countQuery, colnames)\n",
    "\n",
    "dfp.plot(ax=ax)\n",
    "ax.set_ylabel(\"Rows Per Second\")\n",
    "plt.grid()"
   ]
  },
  {
   "cell_type": "markdown",
   "metadata": {},
   "source": [
    "## Step 4: Digging the alerts\n",
    "\n",
    "Now it is time to look at the alerts! The alert system encodes the alert in avro binary, so one needs to decode them.\n",
    "The way to decode the alert is to know its schema. We put a template alert in the folder `schemas` for convenience. Let's create a sink with the whole stream from Kafka, and access the alert through a DataFrame:"
   ]
  },
  {
   "cell_type": "code",
   "execution_count": 12,
   "metadata": {},
   "outputs": [],
   "source": [
    "rawQuery = df\\\n",
    "    .writeStream \\\n",
    "    .queryName(\"qraw\")\\\n",
    "    .format(\"memory\")\\\n",
    "    .start()"
   ]
  },
  {
   "cell_type": "code",
   "execution_count": 13,
   "metadata": {},
   "outputs": [],
   "source": [
    "# Give a bit of time for synchronisation\n",
    "time.sleep(10)"
   ]
  },
  {
   "cell_type": "code",
   "execution_count": 14,
   "metadata": {},
   "outputs": [
    {
     "name": "stdout",
     "output_type": "stream",
     "text": [
      "+----+--------------------+-----------+---------+------+--------------------+-------------+\n",
      "| key|               value|      topic|partition|offset|           timestamp|timestampType|\n",
      "+----+--------------------+-----------+---------+------+--------------------+-------------+\n",
      "|null|[00 A2 B9 B1 0F 8...|lsst-stream|        0|     0|2019-04-01 22:09:...|            0|\n",
      "|null|[00 A2 B9 B1 0F 8...|lsst-stream|        0|     1|2019-04-01 22:09:...|            0|\n",
      "|null|[00 A2 B9 B1 0F 8...|lsst-stream|        0|     2|2019-04-01 22:09:...|            0|\n",
      "|null|[00 A2 B9 B1 0F 8...|lsst-stream|        0|     3|2019-04-01 22:09:...|            0|\n",
      "|null|[00 A2 B9 B1 0F 8...|lsst-stream|        0|     4|2019-04-01 22:09:...|            0|\n",
      "|null|[00 A2 B9 B1 0F 8...|lsst-stream|        0|     5|2019-04-01 22:09:...|            0|\n",
      "|null|[00 A2 B9 B1 0F 8...|lsst-stream|        0|     6|2019-04-01 22:09:...|            0|\n",
      "|null|[00 A2 B9 B1 0F 9...|lsst-stream|        0|     7|2019-04-01 22:09:...|            0|\n",
      "|null|[00 A2 B9 B1 0F 9...|lsst-stream|        0|     8|2019-04-01 22:09:...|            0|\n",
      "|null|[00 A2 B9 B1 0F 9...|lsst-stream|        0|     9|2019-04-01 22:09:...|            0|\n",
      "+----+--------------------+-----------+---------+------+--------------------+-------------+\n",
      "only showing top 10 rows\n",
      "\n"
     ]
    }
   ],
   "source": [
    "# DataFrame\n",
    "df_raw = spark.sql(\"select * from qraw\")\n",
    "df_raw.show(10)"
   ]
  },
  {
   "cell_type": "markdown",
   "metadata": {},
   "source": [
    "We can look closely at the columns of this Dataframe:"
   ]
  },
  {
   "cell_type": "code",
   "execution_count": 15,
   "metadata": {},
   "outputs": [
    {
     "name": "stdout",
     "output_type": "stream",
     "text": [
      "root\n",
      " |-- key: binary (nullable = true)\n",
      " |-- value: binary (nullable = true)\n",
      " |-- topic: string (nullable = true)\n",
      " |-- partition: integer (nullable = true)\n",
      " |-- offset: long (nullable = true)\n",
      " |-- timestamp: timestamp (nullable = true)\n",
      " |-- timestampType: integer (nullable = true)\n",
      "\n",
      "+-------+-----------+---------+------------------+-------------+\n",
      "|summary|      topic|partition|            offset|timestampType|\n",
      "+-------+-----------+---------+------------------+-------------+\n",
      "|  count|      40000|    40000|             40000|        40000|\n",
      "|   mean|       null|      0.0|           19999.5|          0.0|\n",
      "| stddev|       null|      0.0|11547.149720457714|          0.0|\n",
      "|    min|lsst-stream|        0|                 0|            0|\n",
      "|    max|lsst-stream|        0|             39999|            0|\n",
      "+-------+-----------+---------+------------------+-------------+\n",
      "\n"
     ]
    }
   ],
   "source": [
    "df_raw.printSchema()\n",
    "df_raw.describe().show()"
   ]
  },
  {
   "cell_type": "markdown",
   "metadata": {},
   "source": [
    "The column of interest for us is `value` which contains the alert data. For the moment, the data is `binary`, so let's decode it. First read the corresponding schema (LSST in this example):"
   ]
  },
  {
   "cell_type": "code",
   "execution_count": 16,
   "metadata": {},
   "outputs": [
    {
     "name": "stdout",
     "output_type": "stream",
     "text": [
      "dict_keys(['type', 'name', 'fields'])\n"
     ]
    }
   ],
   "source": [
    "# Read the schema\n",
    "alert_schema = avroUtils.readSchemaFromAvroFile(\"../schemas/template_schema_LSST.avro\")\n",
    "\n",
    "# Broadcast the schema to all Spark executors\n",
    "# (Keep in mind we work in a distributed environment!)\n",
    "sc.broadcast(alert_schema)\n",
    "\n",
    "# Look at the available keys\n",
    "print(alert_schema.keys())"
   ]
  },
  {
   "cell_type": "markdown",
   "metadata": {},
   "source": [
    "Now we have the schema, we can decode the alerts. For technical reason, you need to go to RDD world to use in a meaningful way the decoder:"
   ]
  },
  {
   "cell_type": "code",
   "execution_count": 17,
   "metadata": {},
   "outputs": [],
   "source": [
    "# RDD: Resilient Distributed Dataset.\n",
    "# Both Spark DataFrames and RDDs are distributed memory abstractions, fault-tolerant and immutable.\n",
    "# The main difference is that Dataframes are organized into named columns with defined \n",
    "# data types and including the benefits of Spark SQL's execution engine.\n",
    "# Historically, there were only RDDs. DataFrame came later in Spark.\n",
    "\n",
    "# LSST alerts are split into 2 parts: the hash & the data\n",
    "rdd_hash = df_raw.select(\"value\").rdd.map(lambda x: struct.unpack(\"!I\", x[0][1:5])[0])\n",
    "rdd_alerts = df_raw.select(\"value\").rdd.map(lambda x: avroUtils.decoder(x.value[5:], alert_schema))"
   ]
  },
  {
   "cell_type": "markdown",
   "metadata": {},
   "source": [
    "And here is one full alert:"
   ]
  },
  {
   "cell_type": "code",
   "execution_count": 18,
   "metadata": {},
   "outputs": [
    {
     "name": "stdout",
     "output_type": "stream",
     "text": [
      "Hash: 2730078479, \n",
      "Data: {'alertId': 12136218625, 'l1dbId': 314049540, 'diaSource': {'diaSourceId': 321586728962, 'ccdVisitId': 41120011574, 'diaObjectId': 314049540, 'ssObjectId': None, 'parentDiaSourceId': None, 'midPointTai': 59595.3722, 'filterName': 'y', 'ra': 157.8336327870972, 'decl': -76.93761744189929, 'ra_decl_Cov': {'raSigma': 0.0008934108191169798, 'declSigma': 0.00015856779646128416, 'ra_decl_Cov': 0.0008191444212570786}, 'x': 1989.8804931640625, 'y': 2979.4912109375, 'x_y_Cov': {'xSigma': 13.060453414916992, 'ySigma': 15.223045349121094, 'x_y_Cov': 0.0001748482318362221}, 'apFlux': None, 'apFluxErr': None, 'snr': 191.3075408935547, 'psFlux': 0.0022566330153495073, 'psRa': None, 'psDecl': None, 'ps_Cov': None, 'psLnL': None, 'psChi2': None, 'psNdata': None, 'trailFlux': None, 'trailRa': None, 'trailDecl': None, 'trailLength': None, 'trailAngle': None, 'trail_Cov': None, 'trailLnL': None, 'trailChi2': None, 'trailNdata': None, 'dipMeanFlux': None, 'dipFluxDiff': None, 'dipRa': None, 'dipDecl': None, 'dipLength': None, 'dipAngle': None, 'dip_Cov': None, 'dipLnL': None, 'dipChi2': None, 'dipNdata': None, 'totFlux': 0.02456832490861416, 'totFluxErr': 8.638554390927311e-06, 'diffFlux': 0.0022566330153495073, 'diffFluxErr': 1.179583887278568e-05, 'fpBkgd': None, 'fpBkgdErr': None, 'ixx': None, 'iyy': None, 'ixy': None, 'i_cov': None, 'ixxPSF': None, 'iyyPSF': None, 'ixyPSF': None, 'extendedness': None, 'spuriousness': None, 'flags': 34}, 'prv_diaSources': None, 'diaObject': {'diaObjectId': 314049540, 'ra': 157.8336327916065, 'decl': -76.93761744235675, 'ra_decl_Cov': {'raSigma': 0.0009422290022484958, 'declSigma': 0.00019324499589856714, 'ra_decl_Cov': 0.0009784895228222013}, 'radecTai': 59595.139945, 'pmRa': -5.769999980926514, 'pmDecl': 2.5899999141693115, 'parallax': 0.3904811143875122, 'pm_parallax_Cov': {'pmRaSigma': 0.0, 'pmDeclSigma': 0.0, 'parallaxSigma': 0.0, 'pmRa_pmDecl_Cov': 0.0, 'pmRa_parallax_Cov': 0.0, 'pmDecl_parallax_Cov': 0.0}, 'pmParallaxLnL': 0.28565168380737305, 'pmParallaxChi2': 0.47251614928245544, 'pmParallaxNdata': 0, 'uPSFluxMean': None, 'uPSFluxMeanErr': None, 'uPSFluxSigma': None, 'uPSFluxChi2': None, 'uPSFluxNdata': None, 'gPSFluxMean': None, 'gPSFluxMeanErr': None, 'gPSFluxSigma': None, 'gPSFluxChi2': None, 'gPSFluxNdata': None, 'rPSFluxMean': None, 'rPSFluxMeanErr': None, 'rPSFluxSigma': None, 'rPSFluxChi2': None, 'rPSFluxNdata': None, 'iPSFluxMean': None, 'iPSFluxMeanErr': None, 'iPSFluxSigma': None, 'iPSFluxChi2': None, 'iPSFluxNdata': None, 'zPSFluxMean': None, 'zPSFluxMeanErr': None, 'zPSFluxSigma': None, 'zPSFluxChi2': None, 'zPSFluxNdata': None, 'yPSFluxMean': None, 'yPSFluxMeanErr': None, 'yPSFluxSigma': None, 'yPSFluxChi2': None, 'yPSFluxNdata': None, 'uFPFluxMean': None, 'uFPFluxMeanErr': None, 'uFPFluxSigma': None, 'gFPFluxMean': None, 'gFPFluxMeanErr': None, 'gFPFluxSigma': None, 'rFPFluxMean': None, 'rFPFluxMeanErr': None, 'rFPFluxSigma': None, 'iFPFluxMean': None, 'iFPFluxMeanErr': None, 'iFPFluxSigma': None, 'zFPFluxMean': None, 'zFPFluxMeanErr': None, 'zFPFluxSigma': None, 'yFPFluxMean': None, 'yFPFluxMeanErr': None, 'yFPFluxSigma': None, 'uLcPeriodic': None, 'gLcPeriodic': None, 'rLcPeriodic': None, 'iLcPeriodic': None, 'zLcPeriodic': None, 'yLcPeriodic': None, 'uLcNonPeriodic': None, 'gLcNonPeriodic': None, 'rLcNonPeriodic': None, 'iLcNonPeriodic': None, 'zLcNonPeriodic': None, 'yLcNonPeriodic': None, 'nearbyObj1': None, 'nearbyObj1Dist': None, 'nearbyObj1LnP': None, 'nearbyObj2': None, 'nearbyObj2Dist': None, 'nearbyObj2LnP': None, 'nearbyObj3': None, 'nearbyObj3Dist': None, 'nearbyObj3LnP': None, 'flags': 423}, 'ssObject': None, 'diaObjectL2': None, 'diaSourcesL2': None, 'cutoutDifference': None, 'cutoutTemplate': None}\n"
     ]
    }
   ],
   "source": [
    "alert_hash = rdd_hash.take(1)[0]\n",
    "alert_data = rdd_alerts.take(1)[0]\n",
    "print(\"Hash: {}, \\nData: {}\".format(alert_hash, alert_data))"
   ]
  },
  {
   "cell_type": "markdown",
   "metadata": {},
   "source": [
    "One could convert this RDD back to DataFrame, but the schema of the alerts is nested, which can lead to trouble.\n",
    "Instead, let's see what are the keys we have in the alert:"
   ]
  },
  {
   "cell_type": "code",
   "execution_count": 19,
   "metadata": {},
   "outputs": [
    {
     "data": {
      "text/plain": [
       "[[('alertId', int),\n",
       "  ('l1dbId', int),\n",
       "  ('diaSource', dict),\n",
       "  ('prv_diaSources', NoneType),\n",
       "  ('diaObject', dict),\n",
       "  ('ssObject', NoneType),\n",
       "  ('diaObjectL2', NoneType),\n",
       "  ('diaSourcesL2', NoneType),\n",
       "  ('cutoutDifference', NoneType),\n",
       "  ('cutoutTemplate', NoneType)]]"
      ]
     },
     "execution_count": 19,
     "metadata": {},
     "output_type": "execute_result"
    }
   ],
   "source": [
    "rdd_alerts.map(lambda x: [ (i, type(j)) for i, j in zip(x.keys(), x.values())]).take(1)"
   ]
  },
  {
   "cell_type": "markdown",
   "metadata": {},
   "source": [
    "### Creating DataFrames\n",
    "\n",
    "Alerts are nest `dict` that can be transformed into a standalone DataFrame by specifying entries of interest:"
   ]
  },
  {
   "cell_type": "code",
   "execution_count": 20,
   "metadata": {},
   "outputs": [
    {
     "name": "stdout",
     "output_type": "stream",
     "text": [
      "+-----------+---------------------+---------------------+------------------+-----------------------------+\n",
      "|    alertId|diaSource:diaSourceId|diaObject:diaObjectId|      diaSource:ra|diaSource:ra_decl_Cov:raSigma|\n",
      "+-----------+---------------------+---------------------+------------------+-----------------------------+\n",
      "|12136218625|         321586728962|            314049540| 157.8336327870972|         8.934108191169798E-4|\n",
      "|12136218626|         743854575617|            726420484| 159.7720798268905|         6.372298812493682E-4|\n",
      "|12136218627|         884127830017|            863406084|159.09503271094886|         9.375657537020743E-4|\n",
      "|12136218628|         884137267201|            863415300| 160.6709513805466|          6.79594959365204E-5|\n",
      "|12136218629|    73402464468996098|       71682094208004|153.60855310610563|          9.27475281059742E-4|\n",
      "|12136218630|    73402471277400066|       71682100856836|153.61986953163785|         5.779027123935521E-4|\n",
      "|12136218631|    73402474062417922|       71682103576580| 153.7306435986101|         5.444187554530799E-4|\n",
      "|12136218632|    73402476644012034|       71682106097668|153.68784508632274|         8.907577721402049E-4|\n",
      "|12136218633|    73402477705170945|       71682107133956|153.77864353861034|         9.139803005382419E-4|\n",
      "|12136218634|    73402484185370625|       71682113462276|153.93950759731075|         2.834651386365294...|\n",
      "+-----------+---------------------+---------------------+------------------+-----------------------------+\n",
      "only showing top 10 rows\n",
      "\n"
     ]
    }
   ],
   "source": [
    "colnames = [\n",
    "    \"alertId\",\n",
    "    \"diaSource:diaSourceId\", \"diaObject:diaObjectId\",\n",
    "    \"diaSource:ra\", \"diaSource:ra_decl_Cov:raSigma\"]\n",
    "df_simple = make_dataframe_from_alerts(rdd_alerts, colnames)\n",
    "df_simple.show(10)"
   ]
  },
  {
   "cell_type": "markdown",
   "metadata": {},
   "source": [
    "### Writing sample alert\n",
    "\n",
    "Use this to output on disk one alert (avro format):"
   ]
  },
  {
   "cell_type": "code",
   "execution_count": 21,
   "metadata": {},
   "outputs": [],
   "source": [
    "from fastavro import writer\n",
    "\n",
    "with open('template_schema_LSST.avro', 'wb') as out:\n",
    "    writer(out, alert_schema, [alert_data])"
   ]
  },
  {
   "cell_type": "code",
   "execution_count": null,
   "metadata": {},
   "outputs": [],
   "source": []
  }
 ],
 "metadata": {
  "kernelspec": {
   "display_name": "Python 3",
   "language": "python",
   "name": "python3"
  },
  "language_info": {
   "codemirror_mode": {
    "name": "ipython",
    "version": 3
   },
   "file_extension": ".py",
   "mimetype": "text/x-python",
   "name": "python",
   "nbconvert_exporter": "python",
   "pygments_lexer": "ipython3",
   "version": "3.6.8"
  }
 },
 "nbformat": 4,
 "nbformat_minor": 2
}
